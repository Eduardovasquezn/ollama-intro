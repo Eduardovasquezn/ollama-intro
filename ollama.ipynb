{
 "cells": [
  {
   "cell_type": "code",
   "outputs": [],
   "source": [
    "from langchain_community.chat_models import ChatOllama"
   ],
   "metadata": {
    "collapsed": false,
    "ExecuteTime": {
     "end_time": "2024-03-28T21:53:50.927176Z",
     "start_time": "2024-03-28T21:53:50.765949Z"
    }
   },
   "id": "3cc63ed8fbaed234",
   "execution_count": 2
  },
  {
   "cell_type": "code",
   "outputs": [],
   "source": [
    "llm = ChatOllama(model=\"bowser-llm\")"
   ],
   "metadata": {
    "collapsed": false,
    "ExecuteTime": {
     "end_time": "2024-03-28T21:54:02.881250Z",
     "start_time": "2024-03-28T21:54:02.871226Z"
    }
   },
   "id": "2cd2f35c35d5272b",
   "execution_count": 3
  },
  {
   "cell_type": "code",
   "outputs": [],
   "source": [
    "from langchain_core.prompts import ChatPromptTemplate"
   ],
   "metadata": {
    "collapsed": false,
    "ExecuteTime": {
     "end_time": "2024-03-28T21:54:33.423407Z",
     "start_time": "2024-03-28T21:54:33.286653Z"
    }
   },
   "id": "8af06da04ad9a5f4",
   "execution_count": 4
  },
  {
   "cell_type": "code",
   "outputs": [],
   "source": [
    "prompt = ChatPromptTemplate.from_template(\"Tell me a joke about {topic}\")"
   ],
   "metadata": {
    "collapsed": false,
    "ExecuteTime": {
     "end_time": "2024-03-28T21:54:57.168183Z",
     "start_time": "2024-03-28T21:54:57.149037Z"
    }
   },
   "id": "11d0bc804918127",
   "execution_count": 5
  },
  {
   "cell_type": "code",
   "outputs": [],
   "source": [
    "from langchain_core.output_parsers import StrOutputParser"
   ],
   "metadata": {
    "collapsed": false,
    "ExecuteTime": {
     "end_time": "2024-03-28T21:55:39.812084Z",
     "start_time": "2024-03-28T21:55:39.803569Z"
    }
   },
   "id": "750a38d4e16f6fb4",
   "execution_count": 6
  },
  {
   "cell_type": "code",
   "outputs": [],
   "source": [
    "chain = prompt | llm | StrOutputParser()"
   ],
   "metadata": {
    "collapsed": false,
    "ExecuteTime": {
     "end_time": "2024-03-28T21:55:40.697253Z",
     "start_time": "2024-03-28T21:55:40.689177Z"
    }
   },
   "id": "cefc4cc3fbdd86d4",
   "execution_count": 7
  },
  {
   "cell_type": "code",
   "outputs": [
    {
     "data": {
      "text/plain": "\"Life is like a game of Tetris, isn't it? You never know what shape will come next, and sometimes you have to fit it into a space that's not quite right for it. But as long as you keep pushing forward, and don't let those pesky blocks knock you down, you'll eventually find the perfect spot for everything. So enjoy the game of life, my friend, because every level is an opportunity to learn something new. And remember, even if your life feels like a tough boss battle right now, never forget that you have power-ups along the way! Just keep grinding through the levels, and one day, you'll be a true Master Bowser. Now go out there and play!\""
     },
     "execution_count": 8,
     "metadata": {},
     "output_type": "execute_result"
    }
   ],
   "source": [
    "chain.invoke({\"topic\": \"Life\"})"
   ],
   "metadata": {
    "collapsed": false,
    "ExecuteTime": {
     "end_time": "2024-03-28T21:56:17.534565Z",
     "start_time": "2024-03-28T21:56:13.187610Z"
    }
   },
   "id": "6350f9e988eec3ec",
   "execution_count": 8
  },
  {
   "cell_type": "code",
   "outputs": [
    {
     "data": {
      "text/plain": "\"Why was Princess Peach's hair so long? Because she didn't know how to use her hair dryer! Ha ha ha, get it? It's a joke because I can help you understand and appreciate humor, but I can also give you practical advice on hair styling. But remember, even though I'm Bowser, I love kittens too!\""
     },
     "execution_count": 9,
     "metadata": {},
     "output_type": "execute_result"
    }
   ],
   "source": [
    "chain.invoke({\"topic\": \"Mario Bros\"})"
   ],
   "metadata": {
    "collapsed": false,
    "ExecuteTime": {
     "end_time": "2024-03-28T21:56:52.211162Z",
     "start_time": "2024-03-28T21:56:49.028108Z"
    }
   },
   "id": "c7e08f6f5fb33ab9",
   "execution_count": 9
  },
  {
   "cell_type": "code",
   "outputs": [],
   "source": [],
   "metadata": {
    "collapsed": false
   },
   "id": "1bec05bbbe412188"
  }
 ],
 "metadata": {
  "kernelspec": {
   "display_name": "Python 3",
   "language": "python",
   "name": "python3"
  },
  "language_info": {
   "codemirror_mode": {
    "name": "ipython",
    "version": 2
   },
   "file_extension": ".py",
   "mimetype": "text/x-python",
   "name": "python",
   "nbconvert_exporter": "python",
   "pygments_lexer": "ipython2",
   "version": "2.7.6"
  }
 },
 "nbformat": 4,
 "nbformat_minor": 5
}
